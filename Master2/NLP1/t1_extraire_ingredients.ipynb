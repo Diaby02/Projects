{
 "cells": [
  {
   "cell_type": "markdown",
   "id": "f056ea4f",
   "metadata": {},
   "source": []
  },
  {
   "cell_type": "markdown",
   "id": "7b56914a",
   "metadata": {},
   "source": [
    "# Tâche 1 - Extraction d'informations à partir de recettes\n",
    "\n",
    "Construisez des expressions régulières pour repérer les aliments et les quantités de chaque item du fichier ***data/t1_ingredients.txt***. Compléter la fonction ***get_ingredients*** de la Section 3 de ce *notebook* afin de retourner la quantité et l’ingrédient d’un item. Par exemple, \n",
    "\n",
    "\n",
    "    get_ingredients(\"2 cuillères à café de poudre à pâte\")\n",
    "\n",
    "devrait retourner la paire :\n",
    "\n",
    "    \"2 cuillères à café\", \"poudre à pâte\"\n",
    "\n",
    "Par la suite, présentez à la Section 4 les performances que vous obtenez avec ces expressions régulières sur le fichier ***data/t1_test.json***. Discutez des principales erreurs commises par vos expressions régulières. "
   ]
  },
  {
   "cell_type": "markdown",
   "id": "833c026a",
   "metadata": {},
   "source": [
    "## Section 1 - Lecture du fichier pour la construction d'expressions régulières"
   ]
  },
  {
   "cell_type": "code",
   "execution_count": 31,
   "id": "751d7acf",
   "metadata": {},
   "outputs": [],
   "source": [
    "ingredients_fn = \"./data/t1_ingredients.txt\""
   ]
  },
  {
   "cell_type": "code",
   "execution_count": 32,
   "id": "23a50db6",
   "metadata": {},
   "outputs": [],
   "source": [
    "def load_ingredients(filename):\n",
    "    with open(filename, 'r', encoding='utf-8') as f:\n",
    "        raw_items = f.readlines()\n",
    "    ingredients = [x.strip() for x in raw_items]\n",
    "    return ingredients"
   ]
  },
  {
   "cell_type": "code",
   "execution_count": null,
   "id": "108fa26d",
   "metadata": {},
   "outputs": [],
   "source": [
    "ingredients = load_ingredients(ingredients_fn)\n",
    "len(ingredients)"
   ]
  },
  {
   "cell_type": "code",
   "execution_count": 34,
   "id": "4e400359",
   "metadata": {},
   "outputs": [],
   "source": [
    "#ingredients"
   ]
  },
  {
   "cell_type": "markdown",
   "id": "717708cc",
   "metadata": {},
   "source": [
    "Les résultats attendus des 50 exemples utilisés pour la construction de vos expressions régulières sont: "
   ]
  },
  {
   "cell_type": "code",
   "execution_count": null,
   "id": "6a6bba1b",
   "metadata": {},
   "outputs": [],
   "source": [
    "import json \n",
    "\n",
    "solution_fn = 'data/t1_ingredients_solution.json'\n",
    "\n",
    "with open(solution_fn, 'r', encoding='utf-8') as fp:\n",
    "    solutions = json.load(fp)\n",
    "\n",
    "len(solutions)"
   ]
  },
  {
   "cell_type": "code",
   "execution_count": 36,
   "id": "42c1a7d2",
   "metadata": {},
   "outputs": [],
   "source": [
    "#solutions"
   ]
  },
  {
   "cell_type": "markdown",
   "id": "71714aac",
   "metadata": {},
   "source": [
    "## Section 2 - Vos expressions régulières\n",
    "\n",
    "Mettez dans cette section toutes les expressions régulières que vous avez construites à partir du fichier ***data/t1_ingredients.txt***. \n",
    "Vous pouvez ajouter des cellules dans cette section du *notebook* si cela permet de rendre la description plus claire. "
   ]
  },
  {
   "cell_type": "code",
   "execution_count": 37,
   "id": "e033b7ab",
   "metadata": {},
   "outputs": [],
   "source": [
    "# Vos expressions régulières\n",
    "auboutpattern=r\"(.*)\\s(au goût)\"\n",
    "#Cette regex extrait le texte qui est suivi de l'expression \"au goût\"\n",
    "\n",
    "quantitypattern= r\"(Q\\w+\\ssom\\w+|[\\d½¼¾.,/\\s\\-]+(?:[.,]\\d+)?(?:\\s*(?:à)?\\s*\\d+(?:[.,]\\d+)?)?\\s*(?:tasse[s]?|cuillère[s]? à (?:soupe|café)|c\\.? à \\.?\\s?[cs]\\.?|gousse[s]?|g(?=\\s)|ml|kg|lb|l|pincée[s]?|enveloppe[s]?|boîte[s]? de conserve|tranches?|bouquet[s]?|rôti[s]? de \\d+ g|botte[s]?)?(?:\\s*\\([^)]*\\))?)\\s*(?:d[e'’]\\s*)?(.*)\"  \n",
    "#Cette regex extrait les quantités d’ingrédients. \n",
    "#Elle capture :\n",
    "#les quantités (chiffres, fractions, avec ou sans unité de mesure, mais aussi 2 à 3)\n",
    "#les unités de mesure (comme tasses, cuillères, gousses, grammes, millilitres etc..)\n",
    "#des expressions facultatives entre parenthèses exemple: (environ 1 tasse)\n",
    "#capture le reste sur lequel on va appliquer la prochaine expression régulière et enlève d ou d' devant l'ingrédient.\n",
    "\n",
    "ingredientpattern=r\"([^,]+?)(?= en\\s|pour|,|ou\\s|\\s\\w{4,}(ées|és|ée|é|u|us)\\b|pelé[es]?|râpé[es]?|dans\\s|d’env|\\(p|$)\"  \n",
    "#Cette regex se débarasse des descriptions préparatoires des ingrédients:\n",
    "#avec des termes se finissant par dans beaucoup de cas par éées|és|ée|é|u|us \n",
    "#(comme vous pouvez le voir nous avons rajouté pelé et rapé car l'on capture que les mots de plus de 4 lettres afin de ne pas capturer des mots comme \"salé\"),\n",
    "#ou avec une préposition comme en, pour, ou, dans, etc.\n"
   ]
  },
  {
   "cell_type": "markdown",
   "id": "e4376a90",
   "metadata": {},
   "source": [
    "## Section 3 - Fonction pour l'extraction des ingrédients\n",
    "\n",
    "La fonction principale ***get_ingredients*** prend en entrée une ligne de texte et retourne une paires de valeurs: la quantité et l'aliment.\n",
    "\n",
    "Vous pouvez ajouter autant de sous-fonctions que vous le souhaitez.\n",
    "Il est cependant important de ne pas modifier la signature de la fonction principale afin de faciliter notre travail de correction."
   ]
  },
  {
   "cell_type": "code",
   "execution_count": 38,
   "id": "17b964c7",
   "metadata": {},
   "outputs": [],
   "source": [
    "import re\n",
    "\n",
    "def get_ingredients(text):\n",
    "\n",
    "    # ---- gérer le cas des au goût ---- #\n",
    "    auboutpattern = re.match(r\"(.*)\\s(au goût)\", text.strip(),re.IGNORECASE)\n",
    "    pre_quant = \"\"\n",
    "\n",
    "    if auboutpattern:\n",
    "        pre_ingred = auboutpattern.group(1).strip()\n",
    "        pre_quant = auboutpattern.group(2).strip()\n",
    "    #----------------------------------- #\n",
    "    \n",
    "    quantitypattern = r\"(Q\\w+\\ssom\\w+|[\\d½¼¾.,/\\s\\-]+(?:[.,]\\d+)?(?:\\s*(?:à)?\\s*\\d+(?:[.,]\\d+)?)?\\s*(?:tasse[s]?|cuillère[s]? à (?:soupe|café)|c\\.? à \\.?\\s?[cs]\\.?|gousse[s]?|g(?=\\s)|ml|kg|lb|l|pincée[s]?|enveloppe[s]?|boîte[s]? de conserve|tranches?|bouquet[s]?|rôti[s]? de \\d+ g|botte[s]?)?(?:\\s*\\([^)]*\\))?)\\s*(?:d[e'’]\\s*)?(.*)\"  \n",
    "    match = re.match(quantitypattern, text.strip(),re.IGNORECASE) \n",
    "\n",
    "    # ---- case 1 : if we have an ingredient with a quantity ---- #\n",
    "    if match:\n",
    "        quantity = match.group(1).strip()\n",
    "        ingredient = match.group(2).strip()\n",
    "        new_ingredient=re.match(r\"([^,]+?)(?= en\\s|pour|,|ou\\s|\\s\\w{4,}(ées|és|ée|é|u)\\b|pelé[es]?|râpé[es]?|dans\\s|d’env|\\(p|$)\", ingredient, re.IGNORECASE)\n",
    "        if pre_quant != \"\":\n",
    "            return quantity + \" ou au goût\", new_ingredient.group(1).strip()\n",
    "        return quantity, new_ingredient.group(1).strip()\n",
    "    \n",
    "    # ---- case 2 : if we have an ingredient without a quantity ---- #\n",
    "    else:\n",
    "        if pre_quant != \"\":\n",
    "            return \"au goût\", pre_ingred\n",
    "        \n",
    "        new_ingredient=re.match(r\"([^,]+?)(?= en\\s|pour|,|ou\\s|\\s\\w{4,}(ées|és|ée|é|u|us)\\b|pelé[es]?|râpé[es]?|dans\\s|d’env|\\(p|$)\" , text.strip(), re.IGNORECASE)\n",
    "        return \"\", new_ingredient.group(1).strip()"
   ]
  },
  {
   "cell_type": "markdown",
   "id": "18abed4e",
   "metadata": {},
   "source": [
    "Vous pouvez mettre ici tout commentaire qui nous aiderait à comprendre votre fonction et pour expliquer votre démarche. De plus, indiquez si vous réussissez à extraire toutes les informations du fichier d'ingrédients. Sinon, donnez des précisions.  \n",
    "\n",
    "-------------------------------------------------------------------"
   ]
  },
  {
   "cell_type": "markdown",
   "id": "dc6701ba",
   "metadata": {},
   "source": [
    "Nous avons 3 regex qui sont expliquées en commentaire dans la section 2. Concernant la démarche, nous avons commencé par essayer d'extraire toutes les informations de quantité, une fois celle-ci ayant atteint une performance acceptable nous sommes passés à l'extraction des ingrédients. En dernier lieu nous avons rajouté la regex auboutpattern afin d'améliorer notre performance globale.\n",
    "\n",
    "La fonction vérifie d’abord si la quantité mentionnée est “au goût”. Si c’est le cas, elle sépare l’ingrédient de cette indication et conserve cette information pour plus tard. Ensuite, la fonction applique une expression régulière pour repérer les quantités (si elle existe, sinon elle renvoie un string vide pour la quantité) ainsi que les ingrédients correspondants. Nous matchons avec re.IGNORECASE afin de gérer tous les problèmes de upper et lower case en une fois et nous enlevons les espaces potentiels de la réponse avec strip().\n",
    "\n",
    "Concernant les quantités, nous avons réussi à extraire toutes les informations comme vous pouvez l'observer dans la premiere cellule de la section 4. \n",
    "\n",
    "Concernant les ingrédients, une instance ne fonctionne pas \"langoustines surgelées et décongelées\" comme vous pouvez le voir dans la deuxième cellule de la section 4. Le mot \"surgelées\" est considérée dans la partie descriptive se finissant par \"ées\" de laquelle on se débarasse. Nous avons donc seulement langoustines dans les ingrédients.\n",
    "\n",
    "\n",
    "\n"
   ]
  },
  {
   "cell_type": "markdown",
   "id": "6bfec24b",
   "metadata": {},
   "source": [
    "## Section 4 - Évaluation et analyse de vos résultats\n",
    "\n",
    "Décrivez ici les résultats obtenus et présentez l'évaluation obtenue sur le fichier de test ***data/t1_test.json***. Présentez des exemples d'erreurs. Vous pouvez ajouter le nombre de cellules que vous souhaitez pour faire votre analyse. "
   ]
  },
  {
   "cell_type": "markdown",
   "id": "fd14d5e0",
   "metadata": {},
   "source": [
    "Dans un premier temps, on monte en mémoire les exemples de tests. Vous deviez en avoir 26. Chacun contient le texte de l'ingrédient, la quantité et l'aliment. "
   ]
  },
  {
   "cell_type": "code",
   "execution_count": 39,
   "id": "f6ab40a7",
   "metadata": {},
   "outputs": [],
   "source": [
    "import json\n",
    "\n",
    "def load_test_set(filename):\n",
    "    with open(filename, 'r', encoding='utf-8') as fp:\n",
    "        tests = json.load(fp)\n",
    "    return tests"
   ]
  },
  {
   "cell_type": "code",
   "execution_count": null,
   "id": "6fcf73e0",
   "metadata": {},
   "outputs": [],
   "source": [
    "test_fn = \"./data/t1_test.json\"\n",
    "\n",
    "test_examples = load_test_set(test_fn)\n",
    "len(test_examples)\n"
   ]
  },
  {
   "cell_type": "code",
   "execution_count": 46,
   "id": "bdbd09fc",
   "metadata": {},
   "outputs": [],
   "source": [
    "#test_examples"
   ]
  },
  {
   "cell_type": "markdown",
   "id": "ee5e5b25",
   "metadata": {},
   "source": [
    "Les prochaines cellules présentent l'évaluation (dont le code pour mener l'évaluation) et votre analyse des résutlats. "
   ]
  },
  {
   "cell_type": "code",
   "execution_count": null,
   "id": "36458a9c",
   "metadata": {},
   "outputs": [],
   "source": [
    "#test quantity on training set\n",
    "true=0\n",
    "false=0\n",
    "for i in range(50):\n",
    "    result = get_ingredients(ingredients[i])\n",
    "\n",
    "    solution1 = solutions[i]['quantity']\n",
    "\n",
    "    if result[0] == solution1:\n",
    "        true+=1\n",
    "    else:\n",
    "        print(result[0])\n",
    "        print(solution1)\n",
    "        false+=1\n",
    "\n",
    "print(\"True: \", true)\n",
    "print(\"False: \", false)\n",
    "print(\"Accuracy quantity: \", true/(true+false))\n"
   ]
  },
  {
   "cell_type": "code",
   "execution_count": null,
   "id": "39280b76",
   "metadata": {},
   "outputs": [],
   "source": [
    "#test ingredient on training set\n",
    "true=0\n",
    "false=0\n",
    "for i in range(50):\n",
    "    result = get_ingredients(ingredients[i])\n",
    "\n",
    "    solution2 = solutions[i]['ingredient']\n",
    "\n",
    "    if result[1] == solution2:\n",
    "        true+=1\n",
    "    else:\n",
    "        print(solution2)\n",
    "        print(result[1])\n",
    "        false+=1\n",
    "\n",
    "print(\"True: \", true)\n",
    "print(\"False: \", false)\n",
    "print(\"Accuracy ingredient: \", true/(true+false))\n"
   ]
  },
  {
   "cell_type": "code",
   "execution_count": null,
   "id": "db543de5",
   "metadata": {},
   "outputs": [],
   "source": [
    "#compute overall accuracy on training set\n",
    "import re\n",
    "true=0\n",
    "false=0\n",
    "for i in range(50):\n",
    "    result = get_ingredients(ingredients[i])\n",
    "    solution1 = solutions[i]['quantity']\n",
    "    solution2 = solutions[i]['ingredient']\n",
    "\n",
    "    if result[1] == solution2 and result[0] == solution1:\n",
    "        true+=1\n",
    "    else:\n",
    "        print(solution2)\n",
    "        print(result[1])\n",
    "        false+=1\n",
    "\n",
    "print(\"True: \", true)\n",
    "print(\"False: \", false)\n",
    "print(\"Accuracy : \", true/(true+false))\n"
   ]
  },
  {
   "cell_type": "code",
   "execution_count": null,
   "id": "8e9cc045",
   "metadata": {},
   "outputs": [],
   "source": [
    "true = 0\n",
    "false = 0\n",
    "for i in range(len(test_examples)):\n",
    "    result = get_ingredients(test_examples[i]['text'])\n",
    "    \n",
    "    if result[0] == test_examples[i]['quantity'] and result[1] == test_examples[i]['ingredient']:\n",
    "        true += 1\n",
    "    else:\n",
    "        false += 1\n",
    "\n",
    "        if result[0] != test_examples[i]['quantity']:\n",
    "            print(f\"{false} Quantity Solution\".ljust(22)+\" vs Result: \", \n",
    "                  test_examples[i]['quantity'].ljust(40), \"\\t vs\\t\", result[0].ljust(40))\n",
    "\n",
    "        if result[1] != test_examples[i]['ingredient']:\n",
    "            print(f\"{false} Ingredient Solution\".ljust(22) + \" vs Result: \", \n",
    "                  test_examples[i]['ingredient'].ljust(40), \"\\t vs\\t\", result[1].ljust(40))\n",
    "\n",
    "print(\"True: \", true)\n",
    "print(\"False: \", false)\n",
    "print(\"Accuracy: \", true / len(test_examples))\n"
   ]
  },
  {
   "cell_type": "markdown",
   "id": "74bc254b",
   "metadata": {},
   "source": [
    "Analyse des performances:\n",
    "\n",
    "Nous avons atteint une accuracy de 0.98 sur le training set et de 0.93 sur le test set. Vous pouvez observer ci-dessus les exemples qui ne fonctionne pas dans le test set. \n",
    "\n",
    "La 1 et 2 ont l'air d'être des erreurs encodés dans les tests car d'autres exemples montrent un comportement different pour lesquels notre regex capture bel et bien le bon résultat.\n",
    "\n",
    "Nous pouvons observer que sur les 9 exemples non trouvés, il y 4 exemples (3,4,7,9) pour qui les ingrédients sont coupés trop tôt car une partie est considérée comme descriptif de préparation comme pour l'exemple \"langoustines surgelées\" du test set.\n",
    "\n",
    "Le 5, 6 et 8 sont des cas que nos regex ne sont également pas capables de capturer, ce sont des cas que nous n'avons malheureusement pas pris en compte. Notamment le cas du *facultatif* que l'on a pas vu à l'entrainement.\n"
   ]
  },
  {
   "cell_type": "markdown",
   "id": "60170fbf",
   "metadata": {},
   "source": [
    "## Section 5 - Section réservée pour notre correction\n",
    "\n",
    "Ne pas retirer les cellules de cette section. "
   ]
  },
  {
   "cell_type": "code",
   "execution_count": null,
   "id": "6a1ccf14",
   "metadata": {},
   "outputs": [],
   "source": []
  }
 ],
 "metadata": {
  "kernelspec": {
   "display_name": "base",
   "language": "python",
   "name": "python3"
  },
  "language_info": {
   "codemirror_mode": {
    "name": "ipython",
    "version": 3
   },
   "file_extension": ".py",
   "mimetype": "text/x-python",
   "name": "python",
   "nbconvert_exporter": "python",
   "pygments_lexer": "ipython3",
   "version": "3.12.8"
  }
 },
 "nbformat": 4,
 "nbformat_minor": 5
}
